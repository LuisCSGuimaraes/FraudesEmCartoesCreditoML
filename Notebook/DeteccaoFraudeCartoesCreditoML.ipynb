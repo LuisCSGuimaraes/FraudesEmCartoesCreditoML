{
  "nbformat": 4,
  "nbformat_minor": 2,
  "metadata": {
    "colab": {
      "name": "[Template] Detecção de Fraude em Cartões de Crédito.ipynb",
      "provenance": []
    },
    "kernelspec": {
      "name": "python3",
      "display_name": "Python 3.7.4 32-bit"
    },
    "language_info": {
      "name": "python",
      "version": "3.7.4",
      "mimetype": "text/x-python",
      "codemirror_mode": {
        "name": "ipython",
        "version": 3
      },
      "pygments_lexer": "ipython3",
      "nbconvert_exporter": "python",
      "file_extension": ".py"
    },
    "interpreter": {
      "hash": "9f0e3fb4a5e33ab5bb2f60a32d46246dcdd38f38c40a857e9ce8b98f498e57fa"
    }
  },
  "cells": [
    {
      "cell_type": "markdown",
      "source": [
        "<img alt=\"Colaboratory logo\" width=\"100%\" src=\"https://raw.githubusercontent.com/LuisCSGuimaraes/FraudesEmCartoesCreditoML/main/Images/Banner.png\">\r\n",
        "\r\n",
        "\r\n",
        "*Um projeto inspirado por:*\r\n",
        "\r\n",
        "<img alt=\"Colaboratory logo\" width=\"10%\" src=\"https://raw.githubusercontent.com/carlosfab/escola-data-science/master/img/novo_logo_bg_claro.png\">\r\n",
        "\r\n",
        "**Data Science na Prática 2.0**\r\n",
        "*by [sigmoidal.ai](https://sigmoidal.ai)*\r\n"
      ],
      "metadata": {
        "id": "sC2BFMOKN1M7",
        "colab_type": "text"
      }
    },
    {
      "cell_type": "markdown",
      "source": [
        "# Detecção de fraudes em cartões de crédito utilizando Machine Learning\r\n",
        "\r\n",
        "É importante que empresas de cartões de créditos consigam identificar transações fraudulentas de modo que seus clientes não sejam cobrados por compras que não realizaram.\r\n",
        "Segundo o site Procon Online, o Brasil ocupa a segunda colocação entre os países que mais sofrem fraudes com cartões de crédito, débito e pré-pago, atrás apenas do México ([Fonte](https://www.procononline.com.br/fraude-com-cartao-de-credito/)).\r\n",
        "\r\n",
        "<p align=center>\r\n",
        "<img src=\"https://raw.githubusercontent.com/LuisCSGuimaraes/FraudesEmCartoesCreditoML/main/Images/FraudeCartaoCredito.jpg\" width=\"60%\"></p>\r\n",
        "\r\n",
        "O primeiro semestre de 2021 registrou uma alta de quase 33% nas tentativas de fraudes em cartões de crédito ([Fonte](https://www.infomoney.com.br/minhas-financas/brasil-teve-alta-de-quase-33-nas-tentativas-de-fraude-com-cartao-de-credito-no-1-semestre-mostra-estudo/)). Por todos esses motivos, o investimento na área de detecção de fraudes através de Inteligência Artificial vem crescendo a cada ano, representando uma grande oportunidade em *Data Science*. \r\n",
        "\r\n",
        "Dispondo de grandes volumes de dados como base histórica, um algoritmo de *machine learning* apenas um pouco melhor que os anteriores já representa uma economia de milhões de Reais. Esse projeto busca encontrar um bom modelo de *machine learning* para realizar a **detecção de fraudes em transações feitas por cartões de crédito**."
      ],
      "metadata": {
        "id": "IR56trFcPcC1",
        "colab_type": "text"
      }
    },
    {
      "cell_type": "markdown",
      "source": [
        "# Índice\r\n",
        "* [Fonte e obtenção dos dados](#fonte_dados)\r\n",
        "* [Dicionário de variáveis](#dicionario_variaveis)\r\n",
        "* [Análise exploratória dos dados](#analise_dados)\r\n",
        "* [Tratamento e preparação dos dados](#tratamento_dados)\r\n",
        "* [Construção do modelo de Machine Learning](#machine_learning)\r\n",
        "* [Avaliar o desempenho do modelo](#avaliando_modelo)\r\n",
        "* [Conclusão](#conclusao)"
      ],
      "metadata": {}
    },
    {
      "cell_type": "markdown",
      "source": [
        "## Fonte e obtenção dos dados <a name='fonte_dados'></a>\r\n",
        "\r\n",
        "Os dados utilizados neste projeto foram retirados do [kaggle](https://www.kaggle.com/), que é uma comunidade on-line, subsidiária da Google, de cientistas de dados e profissionais de machine learning. O *dataset* contém transações realizadas por europeus em setembro de 2013 durante dois dias, período em que foram registradas 284.807 transações, contendo um total de 492 fraldes. Por esse motivo este é um conjunto de dados extremamente desbalanceado, onde as fraudes representam apenas 0,17% do total.\r\n",
        "\r\n",
        "O *dataset* [original](https://www.kaggle.com/mlg-ulb/creditcardfraud) foi copiado para o meu dropbox e pode ser encontrado através deste [link](https://www.dropbox.com/s/jcnd83bfbdjm45b/creditcard.csv?dl=0)"
      ],
      "metadata": {
        "id": "0HVmpIxQWT4Y",
        "colab_type": "text"
      }
    },
    {
      "cell_type": "code",
      "execution_count": 1,
      "source": [
        "# Importando os pacotes para análise de dados\r\n",
        "import pandas as pd\r\n",
        "import seaborn as sns\r\n",
        "import matplotlib.pyplot as plt\r\n",
        "import numpy as np"
      ],
      "outputs": [],
      "metadata": {
        "id": "oQ4bNy7udtEE",
        "colab_type": "code",
        "colab": {}
      }
    },
    {
      "cell_type": "code",
      "execution_count": 2,
      "source": [
        "# Importando os dados\r\n",
        "df = pd.read_csv(\"https://www.dropbox.com/s/jcnd83bfbdjm45b/creditcard.csv?dl=1\")\r\n",
        "\r\n",
        "# Exibindo a estrutura do dataframe e os valores iniciais\r\n",
        "print(\"####-Estrutura do dataframe-####\\n\")\r\n",
        "print(\"Linhas: \", df.shape[0])\r\n",
        "print(\"Colunas: \", df.shape[1])\r\n",
        "print(\"--------------------------------\")\r\n",
        "\r\n",
        "df.head()\r\n"
      ],
      "outputs": [
        {
          "output_type": "stream",
          "name": "stdout",
          "text": [
            "####-Estrutura do dataframe-####\n",
            "\n",
            "Linhas:  284807\n",
            "Colunas:  31\n",
            "--------------------------------\n"
          ]
        },
        {
          "output_type": "execute_result",
          "data": {
            "text/plain": [
              "   Time        V1        V2        V3        V4        V5        V6        V7  \\\n",
              "0   0.0 -1.359807 -0.072781  2.536347  1.378155 -0.338321  0.462388  0.239599   \n",
              "1   0.0  1.191857  0.266151  0.166480  0.448154  0.060018 -0.082361 -0.078803   \n",
              "2   1.0 -1.358354 -1.340163  1.773209  0.379780 -0.503198  1.800499  0.791461   \n",
              "3   1.0 -0.966272 -0.185226  1.792993 -0.863291 -0.010309  1.247203  0.237609   \n",
              "4   2.0 -1.158233  0.877737  1.548718  0.403034 -0.407193  0.095921  0.592941   \n",
              "\n",
              "         V8        V9  ...       V21       V22       V23       V24       V25  \\\n",
              "0  0.098698  0.363787  ... -0.018307  0.277838 -0.110474  0.066928  0.128539   \n",
              "1  0.085102 -0.255425  ... -0.225775 -0.638672  0.101288 -0.339846  0.167170   \n",
              "2  0.247676 -1.514654  ...  0.247998  0.771679  0.909412 -0.689281 -0.327642   \n",
              "3  0.377436 -1.387024  ... -0.108300  0.005274 -0.190321 -1.175575  0.647376   \n",
              "4 -0.270533  0.817739  ... -0.009431  0.798278 -0.137458  0.141267 -0.206010   \n",
              "\n",
              "        V26       V27       V28  Amount  Class  \n",
              "0 -0.189115  0.133558 -0.021053  149.62      0  \n",
              "1  0.125895 -0.008983  0.014724    2.69      0  \n",
              "2 -0.139097 -0.055353 -0.059752  378.66      0  \n",
              "3 -0.221929  0.062723  0.061458  123.50      0  \n",
              "4  0.502292  0.219422  0.215153   69.99      0  \n",
              "\n",
              "[5 rows x 31 columns]"
            ],
            "text/html": [
              "<div>\n",
              "<style scoped>\n",
              "    .dataframe tbody tr th:only-of-type {\n",
              "        vertical-align: middle;\n",
              "    }\n",
              "\n",
              "    .dataframe tbody tr th {\n",
              "        vertical-align: top;\n",
              "    }\n",
              "\n",
              "    .dataframe thead th {\n",
              "        text-align: right;\n",
              "    }\n",
              "</style>\n",
              "<table border=\"1\" class=\"dataframe\">\n",
              "  <thead>\n",
              "    <tr style=\"text-align: right;\">\n",
              "      <th></th>\n",
              "      <th>Time</th>\n",
              "      <th>V1</th>\n",
              "      <th>V2</th>\n",
              "      <th>V3</th>\n",
              "      <th>V4</th>\n",
              "      <th>V5</th>\n",
              "      <th>V6</th>\n",
              "      <th>V7</th>\n",
              "      <th>V8</th>\n",
              "      <th>V9</th>\n",
              "      <th>...</th>\n",
              "      <th>V21</th>\n",
              "      <th>V22</th>\n",
              "      <th>V23</th>\n",
              "      <th>V24</th>\n",
              "      <th>V25</th>\n",
              "      <th>V26</th>\n",
              "      <th>V27</th>\n",
              "      <th>V28</th>\n",
              "      <th>Amount</th>\n",
              "      <th>Class</th>\n",
              "    </tr>\n",
              "  </thead>\n",
              "  <tbody>\n",
              "    <tr>\n",
              "      <th>0</th>\n",
              "      <td>0.0</td>\n",
              "      <td>-1.359807</td>\n",
              "      <td>-0.072781</td>\n",
              "      <td>2.536347</td>\n",
              "      <td>1.378155</td>\n",
              "      <td>-0.338321</td>\n",
              "      <td>0.462388</td>\n",
              "      <td>0.239599</td>\n",
              "      <td>0.098698</td>\n",
              "      <td>0.363787</td>\n",
              "      <td>...</td>\n",
              "      <td>-0.018307</td>\n",
              "      <td>0.277838</td>\n",
              "      <td>-0.110474</td>\n",
              "      <td>0.066928</td>\n",
              "      <td>0.128539</td>\n",
              "      <td>-0.189115</td>\n",
              "      <td>0.133558</td>\n",
              "      <td>-0.021053</td>\n",
              "      <td>149.62</td>\n",
              "      <td>0</td>\n",
              "    </tr>\n",
              "    <tr>\n",
              "      <th>1</th>\n",
              "      <td>0.0</td>\n",
              "      <td>1.191857</td>\n",
              "      <td>0.266151</td>\n",
              "      <td>0.166480</td>\n",
              "      <td>0.448154</td>\n",
              "      <td>0.060018</td>\n",
              "      <td>-0.082361</td>\n",
              "      <td>-0.078803</td>\n",
              "      <td>0.085102</td>\n",
              "      <td>-0.255425</td>\n",
              "      <td>...</td>\n",
              "      <td>-0.225775</td>\n",
              "      <td>-0.638672</td>\n",
              "      <td>0.101288</td>\n",
              "      <td>-0.339846</td>\n",
              "      <td>0.167170</td>\n",
              "      <td>0.125895</td>\n",
              "      <td>-0.008983</td>\n",
              "      <td>0.014724</td>\n",
              "      <td>2.69</td>\n",
              "      <td>0</td>\n",
              "    </tr>\n",
              "    <tr>\n",
              "      <th>2</th>\n",
              "      <td>1.0</td>\n",
              "      <td>-1.358354</td>\n",
              "      <td>-1.340163</td>\n",
              "      <td>1.773209</td>\n",
              "      <td>0.379780</td>\n",
              "      <td>-0.503198</td>\n",
              "      <td>1.800499</td>\n",
              "      <td>0.791461</td>\n",
              "      <td>0.247676</td>\n",
              "      <td>-1.514654</td>\n",
              "      <td>...</td>\n",
              "      <td>0.247998</td>\n",
              "      <td>0.771679</td>\n",
              "      <td>0.909412</td>\n",
              "      <td>-0.689281</td>\n",
              "      <td>-0.327642</td>\n",
              "      <td>-0.139097</td>\n",
              "      <td>-0.055353</td>\n",
              "      <td>-0.059752</td>\n",
              "      <td>378.66</td>\n",
              "      <td>0</td>\n",
              "    </tr>\n",
              "    <tr>\n",
              "      <th>3</th>\n",
              "      <td>1.0</td>\n",
              "      <td>-0.966272</td>\n",
              "      <td>-0.185226</td>\n",
              "      <td>1.792993</td>\n",
              "      <td>-0.863291</td>\n",
              "      <td>-0.010309</td>\n",
              "      <td>1.247203</td>\n",
              "      <td>0.237609</td>\n",
              "      <td>0.377436</td>\n",
              "      <td>-1.387024</td>\n",
              "      <td>...</td>\n",
              "      <td>-0.108300</td>\n",
              "      <td>0.005274</td>\n",
              "      <td>-0.190321</td>\n",
              "      <td>-1.175575</td>\n",
              "      <td>0.647376</td>\n",
              "      <td>-0.221929</td>\n",
              "      <td>0.062723</td>\n",
              "      <td>0.061458</td>\n",
              "      <td>123.50</td>\n",
              "      <td>0</td>\n",
              "    </tr>\n",
              "    <tr>\n",
              "      <th>4</th>\n",
              "      <td>2.0</td>\n",
              "      <td>-1.158233</td>\n",
              "      <td>0.877737</td>\n",
              "      <td>1.548718</td>\n",
              "      <td>0.403034</td>\n",
              "      <td>-0.407193</td>\n",
              "      <td>0.095921</td>\n",
              "      <td>0.592941</td>\n",
              "      <td>-0.270533</td>\n",
              "      <td>0.817739</td>\n",
              "      <td>...</td>\n",
              "      <td>-0.009431</td>\n",
              "      <td>0.798278</td>\n",
              "      <td>-0.137458</td>\n",
              "      <td>0.141267</td>\n",
              "      <td>-0.206010</td>\n",
              "      <td>0.502292</td>\n",
              "      <td>0.219422</td>\n",
              "      <td>0.215153</td>\n",
              "      <td>69.99</td>\n",
              "      <td>0</td>\n",
              "    </tr>\n",
              "  </tbody>\n",
              "</table>\n",
              "<p>5 rows × 31 columns</p>\n",
              "</div>"
            ]
          },
          "metadata": {},
          "execution_count": 2
        }
      ],
      "metadata": {
        "id": "4NxUOfDOj2j8",
        "colab_type": "code",
        "colab": {}
      }
    },
    {
      "cell_type": "markdown",
      "source": [
        "\r\n",
        "Como podemos ver, as *features* são todas numéricas, e foram descaracterizadas (devido à privacidade e a segurança). Assim, os nomes das colunas são representados por $[V1, V2, V3 \\dots, V28]$ \r\n",
        "\r\n",
        "Além disso, [na página original dos dados](https://www.kaggle.com/mlg-ulb/creditcardfraud), também é informado que as variáveis passaram por uma transformação conhecida como Análise de Componentes Principais (*Principal Component Analysis* - PCA), que é uma técnica para redução da dimensionalidade feita através de cálculos matemáticos e cálculos de matrizes onde o algoritmo encontra um conjunto novo de recursos - os chamados **componentes** - através das variáveis já existentes. Esses componentes são em número menor às variáveis originais e cada componente extraído tenta explicar, por si só, uma grande porcentagem da variabilidade dos dados.\r\n"
      ],
      "metadata": {
        "id": "7nF_Dhd81Cvq",
        "colab_type": "text"
      }
    },
    {
      "cell_type": "markdown",
      "source": [
        "## Dicionário de variáveis <a name='dicionario_variaveis'></a>\r\n",
        "\r\n",
        "Devido ao processo de PCA realizado nos dados originais, conhecemos o significado de poucas variáveis no *dataset*. É importante dizer que isso não influência no aprendizado do algoritmo de classificação e que é bastante comum nos depararmos com dados anonimizados devido à privacidade ou segurança necessários.\r\n",
        "\r\n",
        "As variáveis que conhecemos são:\r\n",
        "\r\n",
        "* `Time` = Número de segundos decorridos entre esta transação e a primeira transação no *dataset*;\r\n",
        "* `Amount` = Valor da transação;\r\n",
        "* `Class` = Nossa variável alvo, ou seja, é a variável que desejamos que nosso algoritmo consiga prever. Classifica as transações como autênticas ou fraudulentas assumindo dois valores: 0 para transações autênticas e 1 para transações fraudulentas.\r\n"
      ],
      "metadata": {}
    },
    {
      "cell_type": "markdown",
      "source": [
        "## Análise Exploratória <a name='analise_dados'></a>\r\n",
        "\r\n",
        "Antes de construirmos o modelo de *Machine Learning* devemos realizar a etapa de análise exploratória dos dados com o objetivo de retirarmos informações úteis que podem nos ajudar no desempenho do modelo a ser construído. Nessa análise devemos, também, verificar se o *dataset* possui valores nulos, *outliers* e verificar as informações estatísticas do *dataset* para observarmos a distribuição dos dados e a ordem de grandeza dos **componentes**, algo que pode impactar diretamente no desempenho do modelo. "
      ],
      "metadata": {
        "id": "8UtXyZ6stlSM",
        "colab_type": "text"
      }
    },
    {
      "cell_type": "code",
      "execution_count": 3,
      "source": [
        "# Visualizando informações estatísticas do dataset\r\n",
        "df.describe()"
      ],
      "outputs": [
        {
          "output_type": "execute_result",
          "data": {
            "text/plain": [
              "                Time            V1            V2            V3            V4  \\\n",
              "count  284807.000000  2.848070e+05  2.848070e+05  2.848070e+05  2.848070e+05   \n",
              "mean    94813.859575  1.165980e-15  3.416908e-16 -1.373150e-15  2.086869e-15   \n",
              "std     47488.145955  1.958696e+00  1.651309e+00  1.516255e+00  1.415869e+00   \n",
              "min         0.000000 -5.640751e+01 -7.271573e+01 -4.832559e+01 -5.683171e+00   \n",
              "25%     54201.500000 -9.203734e-01 -5.985499e-01 -8.903648e-01 -8.486401e-01   \n",
              "50%     84692.000000  1.810880e-02  6.548556e-02  1.798463e-01 -1.984653e-02   \n",
              "75%    139320.500000  1.315642e+00  8.037239e-01  1.027196e+00  7.433413e-01   \n",
              "max    172792.000000  2.454930e+00  2.205773e+01  9.382558e+00  1.687534e+01   \n",
              "\n",
              "                 V5            V6            V7            V8            V9  \\\n",
              "count  2.848070e+05  2.848070e+05  2.848070e+05  2.848070e+05  2.848070e+05   \n",
              "mean   9.604066e-16  1.490107e-15 -5.556467e-16  1.177556e-16 -2.406455e-15   \n",
              "std    1.380247e+00  1.332271e+00  1.237094e+00  1.194353e+00  1.098632e+00   \n",
              "min   -1.137433e+02 -2.616051e+01 -4.355724e+01 -7.321672e+01 -1.343407e+01   \n",
              "25%   -6.915971e-01 -7.682956e-01 -5.540759e-01 -2.086297e-01 -6.430976e-01   \n",
              "50%   -5.433583e-02 -2.741871e-01  4.010308e-02  2.235804e-02 -5.142873e-02   \n",
              "75%    6.119264e-01  3.985649e-01  5.704361e-01  3.273459e-01  5.971390e-01   \n",
              "max    3.480167e+01  7.330163e+01  1.205895e+02  2.000721e+01  1.559499e+01   \n",
              "\n",
              "       ...           V21           V22           V23           V24  \\\n",
              "count  ...  2.848070e+05  2.848070e+05  2.848070e+05  2.848070e+05   \n",
              "mean   ...  1.656562e-16 -3.444850e-16  2.578648e-16  4.471968e-15   \n",
              "std    ...  7.345240e-01  7.257016e-01  6.244603e-01  6.056471e-01   \n",
              "min    ... -3.483038e+01 -1.093314e+01 -4.480774e+01 -2.836627e+00   \n",
              "25%    ... -2.283949e-01 -5.423504e-01 -1.618463e-01 -3.545861e-01   \n",
              "50%    ... -2.945017e-02  6.781943e-03 -1.119293e-02  4.097606e-02   \n",
              "75%    ...  1.863772e-01  5.285536e-01  1.476421e-01  4.395266e-01   \n",
              "max    ...  2.720284e+01  1.050309e+01  2.252841e+01  4.584549e+00   \n",
              "\n",
              "                V25           V26           V27           V28         Amount  \\\n",
              "count  2.848070e+05  2.848070e+05  2.848070e+05  2.848070e+05  284807.000000   \n",
              "mean   5.340915e-16  1.687098e-15 -3.666453e-16 -1.220404e-16      88.349619   \n",
              "std    5.212781e-01  4.822270e-01  4.036325e-01  3.300833e-01     250.120109   \n",
              "min   -1.029540e+01 -2.604551e+00 -2.256568e+01 -1.543008e+01       0.000000   \n",
              "25%   -3.171451e-01 -3.269839e-01 -7.083953e-02 -5.295979e-02       5.600000   \n",
              "50%    1.659350e-02 -5.213911e-02  1.342146e-03  1.124383e-02      22.000000   \n",
              "75%    3.507156e-01  2.409522e-01  9.104512e-02  7.827995e-02      77.165000   \n",
              "max    7.519589e+00  3.517346e+00  3.161220e+01  3.384781e+01   25691.160000   \n",
              "\n",
              "               Class  \n",
              "count  284807.000000  \n",
              "mean        0.001727  \n",
              "std         0.041527  \n",
              "min         0.000000  \n",
              "25%         0.000000  \n",
              "50%         0.000000  \n",
              "75%         0.000000  \n",
              "max         1.000000  \n",
              "\n",
              "[8 rows x 31 columns]"
            ],
            "text/html": [
              "<div>\n",
              "<style scoped>\n",
              "    .dataframe tbody tr th:only-of-type {\n",
              "        vertical-align: middle;\n",
              "    }\n",
              "\n",
              "    .dataframe tbody tr th {\n",
              "        vertical-align: top;\n",
              "    }\n",
              "\n",
              "    .dataframe thead th {\n",
              "        text-align: right;\n",
              "    }\n",
              "</style>\n",
              "<table border=\"1\" class=\"dataframe\">\n",
              "  <thead>\n",
              "    <tr style=\"text-align: right;\">\n",
              "      <th></th>\n",
              "      <th>Time</th>\n",
              "      <th>V1</th>\n",
              "      <th>V2</th>\n",
              "      <th>V3</th>\n",
              "      <th>V4</th>\n",
              "      <th>V5</th>\n",
              "      <th>V6</th>\n",
              "      <th>V7</th>\n",
              "      <th>V8</th>\n",
              "      <th>V9</th>\n",
              "      <th>...</th>\n",
              "      <th>V21</th>\n",
              "      <th>V22</th>\n",
              "      <th>V23</th>\n",
              "      <th>V24</th>\n",
              "      <th>V25</th>\n",
              "      <th>V26</th>\n",
              "      <th>V27</th>\n",
              "      <th>V28</th>\n",
              "      <th>Amount</th>\n",
              "      <th>Class</th>\n",
              "    </tr>\n",
              "  </thead>\n",
              "  <tbody>\n",
              "    <tr>\n",
              "      <th>count</th>\n",
              "      <td>284807.000000</td>\n",
              "      <td>2.848070e+05</td>\n",
              "      <td>2.848070e+05</td>\n",
              "      <td>2.848070e+05</td>\n",
              "      <td>2.848070e+05</td>\n",
              "      <td>2.848070e+05</td>\n",
              "      <td>2.848070e+05</td>\n",
              "      <td>2.848070e+05</td>\n",
              "      <td>2.848070e+05</td>\n",
              "      <td>2.848070e+05</td>\n",
              "      <td>...</td>\n",
              "      <td>2.848070e+05</td>\n",
              "      <td>2.848070e+05</td>\n",
              "      <td>2.848070e+05</td>\n",
              "      <td>2.848070e+05</td>\n",
              "      <td>2.848070e+05</td>\n",
              "      <td>2.848070e+05</td>\n",
              "      <td>2.848070e+05</td>\n",
              "      <td>2.848070e+05</td>\n",
              "      <td>284807.000000</td>\n",
              "      <td>284807.000000</td>\n",
              "    </tr>\n",
              "    <tr>\n",
              "      <th>mean</th>\n",
              "      <td>94813.859575</td>\n",
              "      <td>1.165980e-15</td>\n",
              "      <td>3.416908e-16</td>\n",
              "      <td>-1.373150e-15</td>\n",
              "      <td>2.086869e-15</td>\n",
              "      <td>9.604066e-16</td>\n",
              "      <td>1.490107e-15</td>\n",
              "      <td>-5.556467e-16</td>\n",
              "      <td>1.177556e-16</td>\n",
              "      <td>-2.406455e-15</td>\n",
              "      <td>...</td>\n",
              "      <td>1.656562e-16</td>\n",
              "      <td>-3.444850e-16</td>\n",
              "      <td>2.578648e-16</td>\n",
              "      <td>4.471968e-15</td>\n",
              "      <td>5.340915e-16</td>\n",
              "      <td>1.687098e-15</td>\n",
              "      <td>-3.666453e-16</td>\n",
              "      <td>-1.220404e-16</td>\n",
              "      <td>88.349619</td>\n",
              "      <td>0.001727</td>\n",
              "    </tr>\n",
              "    <tr>\n",
              "      <th>std</th>\n",
              "      <td>47488.145955</td>\n",
              "      <td>1.958696e+00</td>\n",
              "      <td>1.651309e+00</td>\n",
              "      <td>1.516255e+00</td>\n",
              "      <td>1.415869e+00</td>\n",
              "      <td>1.380247e+00</td>\n",
              "      <td>1.332271e+00</td>\n",
              "      <td>1.237094e+00</td>\n",
              "      <td>1.194353e+00</td>\n",
              "      <td>1.098632e+00</td>\n",
              "      <td>...</td>\n",
              "      <td>7.345240e-01</td>\n",
              "      <td>7.257016e-01</td>\n",
              "      <td>6.244603e-01</td>\n",
              "      <td>6.056471e-01</td>\n",
              "      <td>5.212781e-01</td>\n",
              "      <td>4.822270e-01</td>\n",
              "      <td>4.036325e-01</td>\n",
              "      <td>3.300833e-01</td>\n",
              "      <td>250.120109</td>\n",
              "      <td>0.041527</td>\n",
              "    </tr>\n",
              "    <tr>\n",
              "      <th>min</th>\n",
              "      <td>0.000000</td>\n",
              "      <td>-5.640751e+01</td>\n",
              "      <td>-7.271573e+01</td>\n",
              "      <td>-4.832559e+01</td>\n",
              "      <td>-5.683171e+00</td>\n",
              "      <td>-1.137433e+02</td>\n",
              "      <td>-2.616051e+01</td>\n",
              "      <td>-4.355724e+01</td>\n",
              "      <td>-7.321672e+01</td>\n",
              "      <td>-1.343407e+01</td>\n",
              "      <td>...</td>\n",
              "      <td>-3.483038e+01</td>\n",
              "      <td>-1.093314e+01</td>\n",
              "      <td>-4.480774e+01</td>\n",
              "      <td>-2.836627e+00</td>\n",
              "      <td>-1.029540e+01</td>\n",
              "      <td>-2.604551e+00</td>\n",
              "      <td>-2.256568e+01</td>\n",
              "      <td>-1.543008e+01</td>\n",
              "      <td>0.000000</td>\n",
              "      <td>0.000000</td>\n",
              "    </tr>\n",
              "    <tr>\n",
              "      <th>25%</th>\n",
              "      <td>54201.500000</td>\n",
              "      <td>-9.203734e-01</td>\n",
              "      <td>-5.985499e-01</td>\n",
              "      <td>-8.903648e-01</td>\n",
              "      <td>-8.486401e-01</td>\n",
              "      <td>-6.915971e-01</td>\n",
              "      <td>-7.682956e-01</td>\n",
              "      <td>-5.540759e-01</td>\n",
              "      <td>-2.086297e-01</td>\n",
              "      <td>-6.430976e-01</td>\n",
              "      <td>...</td>\n",
              "      <td>-2.283949e-01</td>\n",
              "      <td>-5.423504e-01</td>\n",
              "      <td>-1.618463e-01</td>\n",
              "      <td>-3.545861e-01</td>\n",
              "      <td>-3.171451e-01</td>\n",
              "      <td>-3.269839e-01</td>\n",
              "      <td>-7.083953e-02</td>\n",
              "      <td>-5.295979e-02</td>\n",
              "      <td>5.600000</td>\n",
              "      <td>0.000000</td>\n",
              "    </tr>\n",
              "    <tr>\n",
              "      <th>50%</th>\n",
              "      <td>84692.000000</td>\n",
              "      <td>1.810880e-02</td>\n",
              "      <td>6.548556e-02</td>\n",
              "      <td>1.798463e-01</td>\n",
              "      <td>-1.984653e-02</td>\n",
              "      <td>-5.433583e-02</td>\n",
              "      <td>-2.741871e-01</td>\n",
              "      <td>4.010308e-02</td>\n",
              "      <td>2.235804e-02</td>\n",
              "      <td>-5.142873e-02</td>\n",
              "      <td>...</td>\n",
              "      <td>-2.945017e-02</td>\n",
              "      <td>6.781943e-03</td>\n",
              "      <td>-1.119293e-02</td>\n",
              "      <td>4.097606e-02</td>\n",
              "      <td>1.659350e-02</td>\n",
              "      <td>-5.213911e-02</td>\n",
              "      <td>1.342146e-03</td>\n",
              "      <td>1.124383e-02</td>\n",
              "      <td>22.000000</td>\n",
              "      <td>0.000000</td>\n",
              "    </tr>\n",
              "    <tr>\n",
              "      <th>75%</th>\n",
              "      <td>139320.500000</td>\n",
              "      <td>1.315642e+00</td>\n",
              "      <td>8.037239e-01</td>\n",
              "      <td>1.027196e+00</td>\n",
              "      <td>7.433413e-01</td>\n",
              "      <td>6.119264e-01</td>\n",
              "      <td>3.985649e-01</td>\n",
              "      <td>5.704361e-01</td>\n",
              "      <td>3.273459e-01</td>\n",
              "      <td>5.971390e-01</td>\n",
              "      <td>...</td>\n",
              "      <td>1.863772e-01</td>\n",
              "      <td>5.285536e-01</td>\n",
              "      <td>1.476421e-01</td>\n",
              "      <td>4.395266e-01</td>\n",
              "      <td>3.507156e-01</td>\n",
              "      <td>2.409522e-01</td>\n",
              "      <td>9.104512e-02</td>\n",
              "      <td>7.827995e-02</td>\n",
              "      <td>77.165000</td>\n",
              "      <td>0.000000</td>\n",
              "    </tr>\n",
              "    <tr>\n",
              "      <th>max</th>\n",
              "      <td>172792.000000</td>\n",
              "      <td>2.454930e+00</td>\n",
              "      <td>2.205773e+01</td>\n",
              "      <td>9.382558e+00</td>\n",
              "      <td>1.687534e+01</td>\n",
              "      <td>3.480167e+01</td>\n",
              "      <td>7.330163e+01</td>\n",
              "      <td>1.205895e+02</td>\n",
              "      <td>2.000721e+01</td>\n",
              "      <td>1.559499e+01</td>\n",
              "      <td>...</td>\n",
              "      <td>2.720284e+01</td>\n",
              "      <td>1.050309e+01</td>\n",
              "      <td>2.252841e+01</td>\n",
              "      <td>4.584549e+00</td>\n",
              "      <td>7.519589e+00</td>\n",
              "      <td>3.517346e+00</td>\n",
              "      <td>3.161220e+01</td>\n",
              "      <td>3.384781e+01</td>\n",
              "      <td>25691.160000</td>\n",
              "      <td>1.000000</td>\n",
              "    </tr>\n",
              "  </tbody>\n",
              "</table>\n",
              "<p>8 rows × 31 columns</p>\n",
              "</div>"
            ]
          },
          "metadata": {},
          "execution_count": 3
        }
      ],
      "metadata": {}
    },
    {
      "cell_type": "code",
      "execution_count": 4,
      "source": [
        "# Buscando valores nulos\r\n",
        "df.info()"
      ],
      "outputs": [
        {
          "output_type": "stream",
          "name": "stdout",
          "text": [
            "<class 'pandas.core.frame.DataFrame'>\n",
            "RangeIndex: 284807 entries, 0 to 284806\n",
            "Data columns (total 31 columns):\n",
            " #   Column  Non-Null Count   Dtype  \n",
            "---  ------  --------------   -----  \n",
            " 0   Time    284807 non-null  float64\n",
            " 1   V1      284807 non-null  float64\n",
            " 2   V2      284807 non-null  float64\n",
            " 3   V3      284807 non-null  float64\n",
            " 4   V4      284807 non-null  float64\n",
            " 5   V5      284807 non-null  float64\n",
            " 6   V6      284807 non-null  float64\n",
            " 7   V7      284807 non-null  float64\n",
            " 8   V8      284807 non-null  float64\n",
            " 9   V9      284807 non-null  float64\n",
            " 10  V10     284807 non-null  float64\n",
            " 11  V11     284807 non-null  float64\n",
            " 12  V12     284807 non-null  float64\n",
            " 13  V13     284807 non-null  float64\n",
            " 14  V14     284807 non-null  float64\n",
            " 15  V15     284807 non-null  float64\n",
            " 16  V16     284807 non-null  float64\n",
            " 17  V17     284807 non-null  float64\n",
            " 18  V18     284807 non-null  float64\n",
            " 19  V19     284807 non-null  float64\n",
            " 20  V20     284807 non-null  float64\n",
            " 21  V21     284807 non-null  float64\n",
            " 22  V22     284807 non-null  float64\n",
            " 23  V23     284807 non-null  float64\n",
            " 24  V24     284807 non-null  float64\n",
            " 25  V25     284807 non-null  float64\n",
            " 26  V26     284807 non-null  float64\n",
            " 27  V27     284807 non-null  float64\n",
            " 28  V28     284807 non-null  float64\n",
            " 29  Amount  284807 non-null  float64\n",
            " 30  Class   284807 non-null  int64  \n",
            "dtypes: float64(30), int64(1)\n",
            "memory usage: 67.4 MB\n"
          ]
        }
      ],
      "metadata": {}
    },
    {
      "cell_type": "markdown",
      "source": [
        "Através dos códigos acima conseguimos retirar algumas informações importantes\r\n",
        "\r\n",
        "* As variáveis `Time` e `Amount` estão em uma ordem de grandeza diferente do restante dos componentes e precisarão passar por um processo de **normalização**;\r\n",
        "* Todas as variáveis são numéricas e a maioria são do tipo `float64` (ponto flutuante), exceto a variável `Class`, o que faz total sentido visto que essa é a nossa variável alvo e assume somente dois valores: `0` ou `1`.\r\n",
        "* Não existem valores nulos no *dataset*.\r\n",
        "\r\n",
        "Vejamos agora se encontramos *outliers* nos dados. Para isso verificaremos apenas as variáveis que conhecemos: `Time` e `Amount`, ambas em relação à nossa variável alvo `Class`. "
      ],
      "metadata": {}
    },
    {
      "cell_type": "code",
      "execution_count": 5,
      "source": [
        "# Alterando o estilo do seaborn\r\n",
        "sns.set_style(\"white\")\r\n",
        "\r\n",
        "# Criando a figura\r\n",
        "fig, ax = plt.subplots(figsize=(10,6), ncols=2)\r\n",
        "sns.despine(top=True, right=True)\r\n",
        "\r\n",
        "# Plotando a variável Amount\r\n",
        "sns.boxplot(x=df.Class, y=df.Amount, ax=ax[0], linewidth=.9, palette=\"coolwarm\")\r\n",
        "ax[0].set_title(\"Variável Amount\", size='14')\r\n",
        "\r\n",
        "# Plotando a variável Time\r\n",
        "sns.boxplot(x=df.Class, y=df.Time,ax=ax[1], linewidth=.9, palette=\"coolwarm\")\r\n",
        "ax[1].set_title(\"Variável Time\", size='14')\r\n",
        "\r\n",
        "# Exibindo\r\n",
        "plt.tight_layout()\r\n",
        "\r\n"
      ],
      "outputs": [
        {
          "output_type": "display_data",
          "data": {
            "text/plain": [
              "<Figure size 720x432 with 2 Axes>"
            ],
            "image/png": "[encoded data removed]"
          },
          "metadata": {}
        }
      ],
      "metadata": {}
    },
    {
      "cell_type": "markdown",
      "source": [
        "Vemos que a variável `Amount` possui uma grande quantidade de *outliers*, situação muito diferente da variável `Time`, que não possui nenhum."
      ],
      "metadata": {}
    },
    {
      "cell_type": "code",
      "execution_count": 6,
      "source": [
        "# Informações estatísticas da variável Amount em relação a variável class==1\r\n",
        "df[(df.Class == 1)]['Amount'].describe()"
      ],
      "outputs": [
        {
          "output_type": "execute_result",
          "data": {
            "text/plain": [
              "count     492.000000\n",
              "mean      122.211321\n",
              "std       256.683288\n",
              "min         0.000000\n",
              "25%         1.000000\n",
              "50%         9.250000\n",
              "75%       105.890000\n",
              "max      2125.870000\n",
              "Name: Amount, dtype: float64"
            ]
          },
          "metadata": {},
          "execution_count": 6
        }
      ],
      "metadata": {}
    },
    {
      "cell_type": "code",
      "execution_count": 7,
      "source": [
        "# Informações estatísticas da variável Amount em relação a variável class==0\r\n",
        "df[(df.Class == 0)]['Amount'].describe()"
      ],
      "outputs": [
        {
          "output_type": "execute_result",
          "data": {
            "text/plain": [
              "count    284315.000000\n",
              "mean         88.291022\n",
              "std         250.105092\n",
              "min           0.000000\n",
              "25%           5.650000\n",
              "50%          22.000000\n",
              "75%          77.050000\n",
              "max       25691.160000\n",
              "Name: Amount, dtype: float64"
            ]
          },
          "metadata": {},
          "execution_count": 7
        }
      ],
      "metadata": {}
    },
    {
      "cell_type": "markdown",
      "source": [
        "A presença de *outliers* fica ainda mais nítida ao exibimos as informações estatísticas da variável em relação à variável alvo em seus valores para transações fraudulentas (`1`) e para transações autênticas (`0`). Basta olharmos para o valor bastante grande no desvio padrão, além da grande diferença nas médias e medianas em comparação aos valores mínimos e máximos em ambos os casos.\r\n",
        "\r\n",
        "Verificaremos, nas próximas etapas, a necessidade de tratamento desses *outliers* em busca de um maior desempenho em nosso modelo de classificação.\r\n",
        "\r\n",
        "Seguindo em nossa análise exploratória, iremos agora: \r\n",
        "\r\n",
        "* Plotar um gráfico *countplot* para ver o balanceamento do *dataset*\r\n",
        "* Plotar uma matriz de correlação"
      ],
      "metadata": {}
    },
    {
      "cell_type": "code",
      "execution_count": 8,
      "source": [
        "# Exibindo as informações estatísiticas\r\n",
        "print(\"---Contagem dos valores da variável Class.---\\n\")\r\n",
        "print(\"0 = Transações autênticas  1 = Transações fraudulentas\\n\")\r\n",
        "print(df.Class.value_counts())\r\n",
        "print(\"\\nTransações fraudulentas representam apenas {:.3%}\".format(((df.Class ==1 ).sum()) / (df.shape[0])), \"dos dados\\n.\")\r\n",
        "\r\n",
        "# Plotando o gráfico do balanceamento do dataset\r\n",
        "fig, ax = plt.subplots(figsize=(7,5))\r\n",
        "sns.despine(top=True, right=True)\r\n",
        "sns.countplot(x=\"Class\", data=df,  palette=\"coolwarm\", ax=ax)\r\n",
        "ax.set_title(\"Balanceamento do dataset\", size=14)\r\n",
        "plt.tight_layout()"
      ],
      "outputs": [
        {
          "output_type": "stream",
          "name": "stdout",
          "text": [
            "---Contagem dos valores da variável Class.---\n",
            "\n",
            "0 = Transações autênticas  1 = Transações fraudulentas\n",
            "\n",
            "0    284315\n",
            "1       492\n",
            "Name: Class, dtype: int64\n",
            "\n",
            "Transações fraudulentas representam apenas 0.173% dos dados\n",
            ".\n"
          ]
        },
        {
          "output_type": "display_data",
          "data": {
            "text/plain": [
              "<Figure size 504x360 with 1 Axes>"
            ],
            "image/png": "[encoded data removed]"
          },
          "metadata": {}
        }
      ],
      "metadata": {}
    },
    {
      "cell_type": "markdown",
      "source": [
        "Como é [informado no tópico **Content** na página original](https://www.kaggle.com/mlg-ulb/creditcardfraud), os dados do *dataset* estão bastante desbalanceados, e com o gráfico acima percebemos isso nitidamente.\r\n",
        "Essa discrepância nos dados atrapalhará o modelo e precisará ser tratada."
      ],
      "metadata": {}
    },
    {
      "cell_type": "code",
      "execution_count": 9,
      "source": [
        "# Plotando a matriz de correlação\r\n",
        "fig, ax = plt.subplots(figsize=(8,6))\r\n",
        "\r\n",
        "sns.heatmap(df.corr(), linewidth=.05, cmap=\"coolwarm\", ax=ax)\r\n",
        "ax.set_title(\"Matriz de correlação\", size=14)\r\n",
        "\r\n",
        "plt.tight_layout()"
      ],
      "outputs": [
        {
          "output_type": "display_data",
          "data": {
            "text/plain": [
              "<Figure size 576x432 with 2 Axes>"
            ],
            "image/png": "[encoded data removed]"
          },
          "metadata": {}
        }
      ],
      "metadata": {}
    },
    {
      "cell_type": "markdown",
      "source": [
        "A matriz de correlação não nos dá quase informação nenhuma, isso pode ser devido ao alto desbalanceamento presente nos dados, como vimos anteriormente.\n",
        "\n",
        "Com isso podemos passar para a etapa de tratamento e preparação dos dados para serem utilizados em nosso modelo de classificação."
      ],
      "metadata": {}
    },
    {
      "cell_type": "markdown",
      "source": [
        "## Tratamento e preparação dos Dados <a name='tratamento_dados'></a>\r\n",
        "\r\n",
        "Nessa etapa iremos tratar os problemas que encontramos na etapa de análise de modo a preparar os dados da melhor maneira para serem utilizados pelo algoritmo de *machine learning* e alcançarmos um bom desempenho na previsão das transações.\r\n",
        "Para isso, precisaremos:\r\n",
        "\r\n",
        "* Normalizar os dados que ainda não haviam sido pré-processados (`Time` e `Amount`);\r\n",
        "* Buscar e tratar os *outliers*;\r\n",
        "* Dividir o conjunto de dados entre treino e teste para serem utilizados no modelo.\r\n",
        "* Balancear o conjunto de dados;\r\n",
        "* Avaliar a qualidade dos dados após os tratamentos realizados;\r\n",
        "\r\n"
      ],
      "metadata": {
        "id": "ULe7z0jZt0EH",
        "colab_type": "text"
      }
    },
    {
      "cell_type": "code",
      "execution_count": 10,
      "source": [
        "# Importando os pacotes auxiliares de Machine Learning para tratamento dos dados\r\n",
        "from sklearn.preprocessing import StandardScaler\r\n",
        "from sklearn.model_selection import train_test_split\r\n",
        "from imblearn.under_sampling import RandomUnderSampler"
      ],
      "outputs": [],
      "metadata": {}
    },
    {
      "cell_type": "code",
      "execution_count": 11,
      "source": [
        "# Normalizando as variáveis Time e Amount\r\n",
        "\r\n",
        "# Copiando o dataframe para um novo\r\n",
        "df_norm = df.copy()\r\n",
        "\r\n",
        "# Instanciando o StandardScaler\r\n",
        "std_scaler = StandardScaler()\r\n",
        "\r\n",
        "# Normalizando\r\n",
        "df_norm[\"TimeNorm\"] = std_scaler.fit_transform(df.Time.values.reshape(-1,1))\r\n",
        "df_norm[\"AmountNorm\"] = std_scaler.fit_transform(df.Amount.values.reshape(-1,1))\r\n",
        "\r\n",
        "# Excluir as variáveis não normalizadas do DataFrame\r\n",
        "df_norm.drop([\"Time\", \"Amount\"], axis=1, inplace=True)\r\n",
        "\r\n",
        "# Exibindo o DataFrame com as variáveis normalizadas\r\n",
        "df_norm.head()"
      ],
      "outputs": [
        {
          "output_type": "execute_result",
          "data": {
            "text/plain": [
              "         V1        V2        V3        V4        V5        V6        V7  \\\n",
              "0 -1.359807 -0.072781  2.536347  1.378155 -0.338321  0.462388  0.239599   \n",
              "1  1.191857  0.266151  0.166480  0.448154  0.060018 -0.082361 -0.078803   \n",
              "2 -1.358354 -1.340163  1.773209  0.379780 -0.503198  1.800499  0.791461   \n",
              "3 -0.966272 -0.185226  1.792993 -0.863291 -0.010309  1.247203  0.237609   \n",
              "4 -1.158233  0.877737  1.548718  0.403034 -0.407193  0.095921  0.592941   \n",
              "\n",
              "         V8        V9       V10  ...       V22       V23       V24       V25  \\\n",
              "0  0.098698  0.363787  0.090794  ...  0.277838 -0.110474  0.066928  0.128539   \n",
              "1  0.085102 -0.255425 -0.166974  ... -0.638672  0.101288 -0.339846  0.167170   \n",
              "2  0.247676 -1.514654  0.207643  ...  0.771679  0.909412 -0.689281 -0.327642   \n",
              "3  0.377436 -1.387024 -0.054952  ...  0.005274 -0.190321 -1.175575  0.647376   \n",
              "4 -0.270533  0.817739  0.753074  ...  0.798278 -0.137458  0.141267 -0.206010   \n",
              "\n",
              "        V26       V27       V28  Class  TimeNorm  AmountNorm  \n",
              "0 -0.189115  0.133558 -0.021053      0 -1.996583    0.244964  \n",
              "1  0.125895 -0.008983  0.014724      0 -1.996583   -0.342475  \n",
              "2 -0.139097 -0.055353 -0.059752      0 -1.996562    1.160686  \n",
              "3 -0.221929  0.062723  0.061458      0 -1.996562    0.140534  \n",
              "4  0.502292  0.219422  0.215153      0 -1.996541   -0.073403  \n",
              "\n",
              "[5 rows x 31 columns]"
            ],
            "text/html": [
              "<div>\n",
              "<style scoped>\n",
              "    .dataframe tbody tr th:only-of-type {\n",
              "        vertical-align: middle;\n",
              "    }\n",
              "\n",
              "    .dataframe tbody tr th {\n",
              "        vertical-align: top;\n",
              "    }\n",
              "\n",
              "    .dataframe thead th {\n",
              "        text-align: right;\n",
              "    }\n",
              "</style>\n",
              "<table border=\"1\" class=\"dataframe\">\n",
              "  <thead>\n",
              "    <tr style=\"text-align: right;\">\n",
              "      <th></th>\n",
              "      <th>V1</th>\n",
              "      <th>V2</th>\n",
              "      <th>V3</th>\n",
              "      <th>V4</th>\n",
              "      <th>V5</th>\n",
              "      <th>V6</th>\n",
              "      <th>V7</th>\n",
              "      <th>V8</th>\n",
              "      <th>V9</th>\n",
              "      <th>V10</th>\n",
              "      <th>...</th>\n",
              "      <th>V22</th>\n",
              "      <th>V23</th>\n",
              "      <th>V24</th>\n",
              "      <th>V25</th>\n",
              "      <th>V26</th>\n",
              "      <th>V27</th>\n",
              "      <th>V28</th>\n",
              "      <th>Class</th>\n",
              "      <th>TimeNorm</th>\n",
              "      <th>AmountNorm</th>\n",
              "    </tr>\n",
              "  </thead>\n",
              "  <tbody>\n",
              "    <tr>\n",
              "      <th>0</th>\n",
              "      <td>-1.359807</td>\n",
              "      <td>-0.072781</td>\n",
              "      <td>2.536347</td>\n",
              "      <td>1.378155</td>\n",
              "      <td>-0.338321</td>\n",
              "      <td>0.462388</td>\n",
              "      <td>0.239599</td>\n",
              "      <td>0.098698</td>\n",
              "      <td>0.363787</td>\n",
              "      <td>0.090794</td>\n",
              "      <td>...</td>\n",
              "      <td>0.277838</td>\n",
              "      <td>-0.110474</td>\n",
              "      <td>0.066928</td>\n",
              "      <td>0.128539</td>\n",
              "      <td>-0.189115</td>\n",
              "      <td>0.133558</td>\n",
              "      <td>-0.021053</td>\n",
              "      <td>0</td>\n",
              "      <td>-1.996583</td>\n",
              "      <td>0.244964</td>\n",
              "    </tr>\n",
              "    <tr>\n",
              "      <th>1</th>\n",
              "      <td>1.191857</td>\n",
              "      <td>0.266151</td>\n",
              "      <td>0.166480</td>\n",
              "      <td>0.448154</td>\n",
              "      <td>0.060018</td>\n",
              "      <td>-0.082361</td>\n",
              "      <td>-0.078803</td>\n",
              "      <td>0.085102</td>\n",
              "      <td>-0.255425</td>\n",
              "      <td>-0.166974</td>\n",
              "      <td>...</td>\n",
              "      <td>-0.638672</td>\n",
              "      <td>0.101288</td>\n",
              "      <td>-0.339846</td>\n",
              "      <td>0.167170</td>\n",
              "      <td>0.125895</td>\n",
              "      <td>-0.008983</td>\n",
              "      <td>0.014724</td>\n",
              "      <td>0</td>\n",
              "      <td>-1.996583</td>\n",
              "      <td>-0.342475</td>\n",
              "    </tr>\n",
              "    <tr>\n",
              "      <th>2</th>\n",
              "      <td>-1.358354</td>\n",
              "      <td>-1.340163</td>\n",
              "      <td>1.773209</td>\n",
              "      <td>0.379780</td>\n",
              "      <td>-0.503198</td>\n",
              "      <td>1.800499</td>\n",
              "      <td>0.791461</td>\n",
              "      <td>0.247676</td>\n",
              "      <td>-1.514654</td>\n",
              "      <td>0.207643</td>\n",
              "      <td>...</td>\n",
              "      <td>0.771679</td>\n",
              "      <td>0.909412</td>\n",
              "      <td>-0.689281</td>\n",
              "      <td>-0.327642</td>\n",
              "      <td>-0.139097</td>\n",
              "      <td>-0.055353</td>\n",
              "      <td>-0.059752</td>\n",
              "      <td>0</td>\n",
              "      <td>-1.996562</td>\n",
              "      <td>1.160686</td>\n",
              "    </tr>\n",
              "    <tr>\n",
              "      <th>3</th>\n",
              "      <td>-0.966272</td>\n",
              "      <td>-0.185226</td>\n",
              "      <td>1.792993</td>\n",
              "      <td>-0.863291</td>\n",
              "      <td>-0.010309</td>\n",
              "      <td>1.247203</td>\n",
              "      <td>0.237609</td>\n",
              "      <td>0.377436</td>\n",
              "      <td>-1.387024</td>\n",
              "      <td>-0.054952</td>\n",
              "      <td>...</td>\n",
              "      <td>0.005274</td>\n",
              "      <td>-0.190321</td>\n",
              "      <td>-1.175575</td>\n",
              "      <td>0.647376</td>\n",
              "      <td>-0.221929</td>\n",
              "      <td>0.062723</td>\n",
              "      <td>0.061458</td>\n",
              "      <td>0</td>\n",
              "      <td>-1.996562</td>\n",
              "      <td>0.140534</td>\n",
              "    </tr>\n",
              "    <tr>\n",
              "      <th>4</th>\n",
              "      <td>-1.158233</td>\n",
              "      <td>0.877737</td>\n",
              "      <td>1.548718</td>\n",
              "      <td>0.403034</td>\n",
              "      <td>-0.407193</td>\n",
              "      <td>0.095921</td>\n",
              "      <td>0.592941</td>\n",
              "      <td>-0.270533</td>\n",
              "      <td>0.817739</td>\n",
              "      <td>0.753074</td>\n",
              "      <td>...</td>\n",
              "      <td>0.798278</td>\n",
              "      <td>-0.137458</td>\n",
              "      <td>0.141267</td>\n",
              "      <td>-0.206010</td>\n",
              "      <td>0.502292</td>\n",
              "      <td>0.219422</td>\n",
              "      <td>0.215153</td>\n",
              "      <td>0</td>\n",
              "      <td>-1.996541</td>\n",
              "      <td>-0.073403</td>\n",
              "    </tr>\n",
              "  </tbody>\n",
              "</table>\n",
              "<p>5 rows × 31 columns</p>\n",
              "</div>"
            ]
          },
          "metadata": {},
          "execution_count": 11
        }
      ],
      "metadata": {
        "id": "IqfjG_SUSTi-",
        "colab_type": "code",
        "colab": {}
      }
    },
    {
      "cell_type": "markdown",
      "source": [
        "Com o código acima realizamos a normalização das variáveis e armazenamos seus valores normalizados em duas novas variáveis `TimeNorm` e `AmountNorm`. Com esse processo não temos o risco de o algoritmo dar mais ou menos peso à essas colunas devido aos seus valores estarem em escala diferente do restante do *dataset*, já que essa técnica coloca os valores das colunas informadas em uma escala igual ao restante dos dados sem retirar as informações que possuem.\r\n",
        "\r\n",
        "Passaremos agora para a análise e tratamento dos *outliers*. Trataremos apenas a variável `Amount`, que agora é `AmountNorm`, já que não identificamos *outliers* na variável `Time`.\r\n",
        "Para a limpeza utilizaremos a regra do [IQR Score](https://online.stat.psu.edu/stat200/lesson/3/3.2)."
      ],
      "metadata": {}
    },
    {
      "cell_type": "code",
      "execution_count": 12,
      "source": [
        "# Calculando o Q1 e o Q3\r\n",
        "q1 = df_norm.AmountNorm.quantile(.25)\r\n",
        "q3 = df_norm.AmountNorm.quantile(.75)\r\n",
        "\r\n",
        "# Calculando o IQR\r\n",
        "IQR = q3 - q1\r\n",
        "\r\n",
        "# Definindo os limites superior e inferior\r\n",
        "sup = q3 + 1.5 * IQR\r\n",
        "inf = q1 - 1.5 * IQR\r\n",
        "\r\n",
        "# Limpando os outliers\r\n",
        "df_clean = df_norm.copy()\r\n",
        "df_clean.drop(df_clean[df_clean.AmountNorm > sup].index, axis=0, inplace=True)\r\n",
        "df_clean.drop(df_clean[df_clean.AmountNorm < inf].index, axis=0, inplace=True)\r\n"
      ],
      "outputs": [],
      "metadata": {}
    },
    {
      "cell_type": "code",
      "execution_count": 13,
      "source": [
        "# Criando a figura\r\n",
        "fig, ax = plt.subplots(figsize=(10,6), ncols=2)\r\n",
        "sns.despine(top=True, right=True)\r\n",
        "\r\n",
        "# Plotando a variável Amount antes da limpeza dos outliers\r\n",
        "sns.boxplot(x=df_norm.Class, y=df_norm.AmountNorm, ax=ax[0], linewidth=.9, palette=\"coolwarm\")\r\n",
        "ax[0].set_title(\"Variável Amount antes da limpeza dos outliers\", size='14')\r\n",
        "\r\n",
        "# Plotando a variável Amount depois da limpeza dos outliers\r\n",
        "sns.boxplot(x=df_clean.Class, y=df_clean.AmountNorm, ax=ax[1], linewidth=.9, palette=\"coolwarm\")\r\n",
        "ax[1].set_title(\"Variável Amount depois da limpeza dos outliers\", size='14')\r\n",
        "\r\n",
        "# Exibindo\r\n",
        "plt.tight_layout()"
      ],
      "outputs": [
        {
          "output_type": "display_data",
          "data": {
            "text/plain": [
              "<Figure size 720x432 with 2 Axes>"
            ],
            "image/png": "[encoded data removed]"
          },
          "metadata": {}
        }
      ],
      "metadata": {}
    },
    {
      "cell_type": "code",
      "execution_count": 14,
      "source": [
        "# Exibindo as informações estatísiticas antes da limpeza\r\n",
        "print(\"Exibindo as informações estatísiticas antes da limpeza\")\r\n",
        "print(df_norm.AmountNorm.describe())\r\n",
        "\r\n",
        "# Exibindo as informações estatísiticas após a limpeza\r\n",
        "print(\"\\nExibindo as informações estatísiticas após a limpeza\")\r\n",
        "print(df_clean.AmountNorm.describe())"
      ],
      "outputs": [
        {
          "output_type": "stream",
          "name": "stdout",
          "text": [
            "Exibindo as informações estatísiticas antes da limpeza\n",
            "count    2.848070e+05\n",
            "mean     2.913952e-17\n",
            "std      1.000002e+00\n",
            "min     -3.532294e-01\n",
            "25%     -3.308401e-01\n",
            "50%     -2.652715e-01\n",
            "75%     -4.471707e-02\n",
            "max      1.023622e+02\n",
            "Name: AmountNorm, dtype: float64\n",
            "\n",
            "Exibindo as informações estatísiticas após a limpeza\n",
            "count    252903.000000\n",
            "mean         -0.213397\n",
            "std           0.168608\n",
            "min          -0.353229\n",
            "25%          -0.335278\n",
            "50%          -0.289260\n",
            "75%          -0.153365\n",
            "max           0.384418\n",
            "Name: AmountNorm, dtype: float64\n"
          ]
        }
      ],
      "metadata": {}
    },
    {
      "cell_type": "markdown",
      "source": [
        "É visível a melhoria da qualidade dos dados após a técnica do IQR Score ter sido aplicada para realizar a limpeza dos *outliers*. Através do boxplot conseguimos visualizar agora os quartis e os limites superior e inferior, algo que sequer era visível antes da limpeza. Nas informações estatísticas temos um comportamento muito mais uniforme, um desvio padrão menor e valores de média e mediana muito mais próximos.\r\n",
        "\r\n",
        "Vamos, agora, dividir os dados entre treino e teste. Essa  etapa é essencial na construção de modelos de *machine learning*, pois nos permite treinar o modelo com parte dos dados e testar seu desempenho com restante, simulando como seria seu comportamento se o aplicássemos em dados completamente novos. Um dos passos a serem feitos durante essa divisão é a separação dos dados entre *feature matrix* e *target vector*, que são:\r\n",
        "\r\n",
        "* ***Feature matrix***: matriz com todas as variáveis que serão utilizadas pelo modelo para prever a variável alvo;\r\n",
        "* ***Target vector***: vetor alvo (ou variável alvo), é a variável que desejamos que seja prevista corretamente pelo modelo."
      ],
      "metadata": {}
    },
    {
      "cell_type": "code",
      "execution_count": 15,
      "source": [
        "# Dividindo os dados entre treino e teste\r\n",
        "\r\n",
        "# Separando os dados entre feature matrix e target vector\r\n",
        "X = df_clean.drop(\"Class\", axis=1)\r\n",
        "y = df_clean.Class\r\n",
        "\r\n",
        "# Separar os dados entre treino e teste\r\n",
        "X_train, X_test, y_train, y_test = train_test_split(X, y, shuffle=True, stratify=y)"
      ],
      "outputs": [],
      "metadata": {}
    },
    {
      "cell_type": "markdown",
      "source": [
        "Agora iremos realizar o balanceamento dos dados. Aplicaremos a técnica de *undersampling*. De maneira resumida, essa técnica consiste em diminuir a quantidade de observações com a maior número de classificação de modo a equalizar. O portal [**Data Hackers**](https://medium.com/data-hackers/como-lidar-com-dados-desbalanceados-em-problemas-de-classifica%C3%A7%C3%A3o-17c4d4357ef9) possui um excelente artigo que explica as diversas formas de balanceamento de dados, incluindo a que será utilizada aqui."
      ],
      "metadata": {}
    },
    {
      "cell_type": "code",
      "execution_count": 16,
      "source": [
        "# Balanceando os dados \r\n",
        "\r\n",
        "# Instanciando o RandomUnderSampler\r\n",
        "rus = RandomUnderSampler()\r\n",
        "\r\n",
        "#Balanceando X_train e y_train\r\n",
        "X_train_rus, y_train_rus = rus.fit_resample(X_train, y_train)"
      ],
      "outputs": [],
      "metadata": {}
    },
    {
      "cell_type": "code",
      "execution_count": 17,
      "source": [
        "# Exibindo as informações estatísiticas após o balanceamento\r\n",
        "print(\"---Contagem dos valores da variável Class após o balanceamento.---\\n\")\r\n",
        "print(\"0 = Transações autênticas  1 = Transações fraudulentas\\n\")\r\n",
        "print(y_train_rus.value_counts())\r\n",
        "\r\n",
        "\r\n",
        "# Plotando o gráfico do balanceamento do dataset após o balanceamento\r\n",
        "fig, ax = plt.subplots(figsize=(7,5))\r\n",
        "sns.despine(top=True, right=True)\r\n",
        "sns.countplot(x=y_train_rus, palette=\"coolwarm\", ax=ax)\r\n",
        "ax.set_title(\"Balanceamento do dataset\", size=14)\r\n",
        "plt.tight_layout()"
      ],
      "outputs": [
        {
          "output_type": "stream",
          "name": "stdout",
          "text": [
            "---Contagem dos valores da variável Class após o balanceamento.---\n",
            "\n",
            "0 = Transações autênticas  1 = Transações fraudulentas\n",
            "\n",
            "1    301\n",
            "0    301\n",
            "Name: Class, dtype: int64\n"
          ]
        },
        {
          "output_type": "display_data",
          "data": {
            "text/plain": [
              "<Figure size 504x360 with 1 Axes>"
            ],
            "image/png": "[encoded data removed]"
          },
          "metadata": {}
        }
      ],
      "metadata": {}
    },
    {
      "cell_type": "markdown",
      "source": [
        "Como nosso *dataset* continha poucas observações para a classificação `Class == 1`, a técnica de *undersampling* reduziu a quantidade de observações para a classificação majoritária `Class == 0` equalizando ambas e, assim, balanceando os dados.\n",
        "\n",
        "Agora que nossos dados estão tratados, normalizadas, limpos de *outliers* e balanceados, podemos passar para a etapa de construção do modelo de *machine learning* para, enfim, atacarmos o problema principal: **construir um modelo que possa detectar transações fraudulentas em cartões de crédito**."
      ],
      "metadata": {}
    },
    {
      "cell_type": "markdown",
      "source": [
        "## Construção do modelo de Machine Learning <a name='machine_learning'></a>\r\n",
        "\r\n",
        "Nosso problema trata da previsão de transações fraudulentas, ou seja, detectar quando uma transação é autêntica ou não. Para isso, nossa variável alvo pode assumir dois valores distintos, conforme explicado na etapa do [dicionário de variáveis](#dicionario_variaveis): 0 - para transações autênticas e 1 - para transações fraudulentas. Isso significa dizer que essa variável assume **valores discretos**, pode ser apenas 1 ou 0, mas não pode assumir nenhum outro valor intermediário ou contínuo (*0.01*, *0.001*, *0.02*, *0.98*, etc..), será sempre 0 ou 1. Para esse tipo de problemas usamos modelos de **Classificação**, que classificará a variável dentro dos valores discretos que ela pode assumir (mais sobre isso [aqui](https://icrowdnewswire.com/2017/12/11/diferenca-entre-classificacao-e-regressao-na-aprendizagem-de-maquinas/)).\r\n",
        "\r\n",
        "Existem diversos modelos que podem ser aplicados em tarefas de classificação, nesse estudo aplicaremos dois: **Regressão Logística** e **Árvore de decisão**. Em seguida avaliaremos qual dos dois teve o melhor desempenho na resolução do problema.\r\n",
        "\r\n"
      ],
      "metadata": {
        "id": "wJNH5qcjRxfX",
        "colab_type": "text"
      }
    },
    {
      "cell_type": "code",
      "execution_count": 18,
      "source": [
        "# Importando os pacotes de modelos de Machine learning\r\n",
        "from sklearn.linear_model import LogisticRegression\r\n",
        "from sklearn.tree import DecisionTreeClassifier\r\n",
        "import scikitplot as skplt"
      ],
      "outputs": [],
      "metadata": {}
    },
    {
      "cell_type": "code",
      "execution_count": 19,
      "source": [
        "## Criando o modelo de Regressão Logistica ##\r\n",
        "\r\n",
        "# Instanciando o modelo\r\n",
        "np.random.seed(2)\r\n",
        "logistic_model = LogisticRegression(C=0.01)\r\n",
        "\r\n",
        "# Fit do modelo de Regressão\r\n",
        "logistic_model.fit(X_train_rus, y_train_rus)\r\n",
        "\r\n",
        "# Testando o modelo com os dados de teste\r\n",
        "logistic_y_pred = logistic_model.predict(X_test)"
      ],
      "outputs": [],
      "metadata": {}
    },
    {
      "cell_type": "code",
      "execution_count": 20,
      "source": [
        "## Criando o modelo de Árvore de Decisão ##\r\n",
        "\r\n",
        "# Instanciando o modelo\r\n",
        "np.random.seed(2)\r\n",
        "tree_model = DecisionTreeClassifier(criterion=\"entropy\",max_depth=6)\r\n",
        "\r\n",
        "# Fit do modelo de Árvore de Decisão\r\n",
        "tree_model.fit(X_train_rus, y_train_rus)\r\n",
        "\r\n",
        "# Testando o modelo com os dados de teste\r\n",
        "tree_y_pred = tree_model.predict(X_test)"
      ],
      "outputs": [],
      "metadata": {}
    },
    {
      "cell_type": "markdown",
      "source": [
        "Com isso criamos os dois modelos de previsão, testamos sua performance nos dados de teste e armazenamos os valores previstos em duas variáveis: `logistic_y_pred` para o modelo de Regressão Logística e `tree_y_pred` para o modelo de Árvore de Decisão.\r\n",
        "\r\n",
        "Podemos passar, agora, para a etapa de avaliação de ambos."
      ],
      "metadata": {}
    },
    {
      "cell_type": "markdown",
      "source": [
        "## Avaliar o desempenho do modelo <a name='avaliando_modelo'></a>\r\n",
        "\r\n",
        "Existem diversas métricas e ferramentas que auxiliam na avaliação de um modelo de *Machine Learning*. Aqui, usaremos como ferramentas a **Confusion Matrix** e o **Classification Report** e como métricas utilizaremos principalmente a **Acurácia**, a **AUC** e o **Recall**.\r\n",
        "\r\n",
        "De maneira resumida, o funcionamento dessas ferramentas e métricas é o seguinte:\r\n",
        "\r\n",
        "* **Confusion Matrix**: plota uma matriz que possui, eu sei eixo Y, os valores verdadeiros (originais) dos dados de teste e no eixo X os valores previstos pelo algoritmo para cada classificação possível da variável alvo;\r\n",
        "* **Classification Report**: relatório com as principais métricas utilizadas divididas para cada classificação possível da variável alvo;\r\n",
        "* **Acurácia**: fração de predições corretas (no total). Pode ser resumida em \"*Quanto o modelo está acertando?\"*. É preciso tomar cuidado com essa métrica, pois pode nos dar uma falsa sensação de bom desempenho, pois um modelo pode ter uma acurácia de 99% e acertar apenas 60% uma classificação específica (mais sobre [aqui](sigmoidal.ai/como-lidar-com-dados-desbalanceados/));\r\n",
        "* **AUC**: fornece uma medida agregada de desempenho em todos os limites de classificação possíveis. Uma maneira de interpretar AUC é como a probabilidade de que o modelo classifique um exemplo positivo aleatório mais alto do que um exemplo negativo aleatório. Quanto mais próximo de 1, melhor. Um modelo cujas previsões estão 100% erradas tem uma AUC de 0,0; aquele cujas previsões são 100% corretas tem uma AUC de 1,0 (mais sobre [aqui](https://developers.google.com/machine-learning/crash-course/classification/roc-and-auc)); \r\n",
        "* **Recall**: qual a porcentagem de classificações positivas (em nosso exemplo: **1 - Fraudulentas**) o modelo consegue prever. Pode ser resumida em: \"*Dentre os positivos reais, qual a proporção de acerto?*\".\r\n"
      ],
      "metadata": {
        "id": "3e4ENOTYSUXi",
        "colab_type": "text"
      }
    },
    {
      "cell_type": "code",
      "execution_count": 21,
      "source": [
        "# Importando pacotes para avaliação do modelo\r\n",
        "from sklearn.metrics import confusion_matrix\r\n",
        "from sklearn.metrics import classification_report\r\n",
        "from sklearn.metrics import roc_auc_score, roc_curve, accuracy_score, recall_score"
      ],
      "outputs": [],
      "metadata": {}
    },
    {
      "cell_type": "code",
      "execution_count": 22,
      "source": [
        "print(\"---------------AVALIANDO O MODELO DE REGRESSÃO LOGÍSTICA---------------\")\r\n",
        "print(\"\\nClassification Report\\n\")\r\n",
        "# Imprimindo o classification report\r\n",
        "print(classification_report(y_test, logistic_y_pred))\r\n",
        "\r\n",
        "print(\"\\n--Métricas do modelo--\\n\")\r\n",
        "# Imprimindo as métricas\r\n",
        "print(\"Acurácia: {:.2%}\".format(accuracy_score(y_test, logistic_y_pred)))\r\n",
        "print(\"AUC: {:.2f}\".format(roc_auc_score(y_test, logistic_y_pred)))\r\n",
        "print(\"Recall: {:.2%}\".format(recall_score(y_test, logistic_y_pred)))\r\n",
        "\r\n",
        "print(\"Confusion Matrix\")\r\n",
        "# Criando a figura\r\n",
        "fig, ax = plt.subplots(figsize=(5,5))\r\n",
        "\r\n",
        "# Plotando a matriz\r\n",
        "skplt.metrics.plot_confusion_matrix(y_test, logistic_y_pred, ax=ax, normalize=True, cmap=\"Greys\")\r\n",
        "ax.set_ylabel(\"Verdadeiro\")\r\n",
        "ax.set_xlabel(\"Previsto\")\r\n",
        "ax.set_title(\"Matriz de confusão - Regressão Logística\", size=\"14\")\r\n",
        "\r\n",
        "# Exibindo\r\n",
        "plt.tight_layout()"
      ],
      "outputs": [
        {
          "output_type": "stream",
          "name": "stdout",
          "text": [
            "---------------AVALIANDO O MODELO DE REGRESSÃO LOGÍSTICA---------------\n",
            "\n",
            "Classification Report\n",
            "\n",
            "              precision    recall  f1-score   support\n",
            "\n",
            "           0       1.00      0.99      1.00    246993\n",
            "           1       0.01      0.88      0.02        26\n",
            "\n",
            "    accuracy                           0.99    247019\n",
            "   macro avg       0.50      0.94      0.51    247019\n",
            "weighted avg       1.00      0.99      0.99    247019\n",
            "\n",
            "\n",
            "--Métricas do modelo--\n",
            "\n",
            "Acurácia: 99.02%\n",
            "AUC: 0.94\n",
            "Recall: 88.46%\n",
            "Confusion Matrix\n"
          ]
        },
        {
          "output_type": "display_data",
          "data": {
            "text/plain": [
              "<Figure size 360x360 with 2 Axes>"
            ],
            "image/png": "[encoded data removed]"
          },
          "metadata": {}
        }
      ],
      "metadata": {}
    },
    {
      "cell_type": "code",
      "execution_count": 23,
      "source": [
        "\r\n",
        "\r\n",
        "print(\"---------------AVALIANDO O MODELO DE ÁRVORE DE DECISÃO---------------\")\r\n",
        "print(\"\\nClassification Report\\n\")\r\n",
        "# Imprimindo o classification report\r\n",
        "print(classification_report(y_test, tree_y_pred))\r\n",
        "\r\n",
        "print(\"\\n--Métricas do modelo--\\n\")\r\n",
        "# Imprimindo as métricas\r\n",
        "print(\"Acurácia: {:.2%}\".format(accuracy_score(y_test, tree_y_pred)))\r\n",
        "print(\"AUC: {:.2f}\".format(roc_auc_score(y_test, tree_y_pred)))\r\n",
        "print(\"Recall: {:.2%}\".format(recall_score(y_test, tree_y_pred)))\r\n",
        "plt.tight_layout()\r\n",
        "\r\n",
        "print(\"Confusion Matrix\")\r\n",
        "# Criando a figura\r\n",
        "fig, ax = plt.subplots(figsize=(5,5))\r\n",
        "\r\n",
        "# Plotando a matriz\r\n",
        "skplt.metrics.plot_confusion_matrix(y_test, tree_y_pred, ax=ax, normalize=True, cmap=\"Greens\")\r\n",
        "ax.set_ylabel(\"Verdadeiro\")\r\n",
        "ax.set_xlabel(\"Previsto\")\r\n",
        "ax.set_title(\"Matriz de confusão - Árvore de Decisão\", size=\"14\")\r\n",
        "\r\n",
        "# Exibindo\r\n",
        "plt.tight_layout()"
      ],
      "outputs": [
        {
          "output_type": "stream",
          "name": "stdout",
          "text": [
            "---------------AVALIANDO O MODELO DE ÁRVORE DE DECISÃO---------------\n",
            "\n",
            "Classification Report\n",
            "\n",
            "              precision    recall  f1-score   support\n",
            "\n",
            "           0       1.00      0.94      0.97    246993\n",
            "           1       0.00      0.92      0.00        26\n",
            "\n",
            "    accuracy                           0.94    247019\n",
            "   macro avg       0.50      0.93      0.49    247019\n",
            "weighted avg       1.00      0.94      0.97    247019\n",
            "\n",
            "\n",
            "--Métricas do modelo--\n",
            "\n",
            "Acurácia: 93.84%\n",
            "AUC: 0.93\n",
            "Recall: 92.31%\n",
            "Confusion Matrix\n"
          ]
        },
        {
          "output_type": "display_data",
          "data": {
            "text/plain": [
              "<Figure size 432x288 with 0 Axes>"
            ]
          },
          "metadata": {}
        },
        {
          "output_type": "display_data",
          "data": {
            "text/plain": [
              "<Figure size 360x360 with 2 Axes>"
            ],
            "image/png": "[encoded data removed]"
          },
          "metadata": {}
        }
      ],
      "metadata": {}
    },
    {
      "cell_type": "markdown",
      "source": [
        "Ao avaliarmos os modelos, percebemos que o modelo de *Árvores de decisão* tem o melhor desempenho nos dados utilizados para a previsão das fraudes.\r\n",
        "Nas simulações feitas durante este estudo, o modelo conseguiu prever cerca de 92% das transações fraudulentas contra 88% de acerto no modelo de *Regressão Logística*."
      ],
      "metadata": {}
    },
    {
      "cell_type": "markdown",
      "source": [
        "## Conclusão  <a name='conclusao'></a>"
      ],
      "metadata": {
        "id": "0Bj7zRZMSfO7",
        "colab_type": "text"
      }
    },
    {
      "cell_type": "markdown",
      "source": [
        "Modelos de aprendizagem de máquina são grandes aliados a todo o tipo de empresa e para diversas tarefas diferentes. Aplicar um algoritmo de *Machine Learning* para detectar transações fraudulentas em cartões de crédito pode significar a economia de milhões de reais em apenas um dia. Porém, conforme vimos durante o estudo, algo que precisa ser realizado com  máximo de cuidado vem antes mesmo da construção do modelo em si: as etapas de análise e tratamento dos dados. Sem uma análise correta e um tratamento bem feito o modelo aplicado não terá um bom desempenho e não conseguirá desempenhar com assertividade sua tarefa.\r\n",
        "\r\n",
        "Após um bom tratamento ambos os modelos construídos tiveram um ótimo desempenho, mesmo sem realizarmos *tunning* em seus hiperparâmetros."
      ],
      "metadata": {}
    }
  ]
}