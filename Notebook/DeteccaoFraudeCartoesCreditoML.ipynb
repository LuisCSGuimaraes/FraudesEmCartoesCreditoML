{
  "nbformat": 4,
  "nbformat_minor": 2,
  "metadata": {
    "colab": {
      "name": "[Template] Detecção de Fraude em Cartões de Crédito.ipynb",
      "provenance": []
    },
    "kernelspec": {
      "name": "python3",
      "display_name": "Python 3.7.4 32-bit"
    },
    "language_info": {
      "name": "python",
      "version": "3.7.4"
    },
    "interpreter": {
      "hash": "9f0e3fb4a5e33ab5bb2f60a32d46246dcdd38f38c40a857e9ce8b98f498e57fa"
    }
  },
  "cells": [
    {
      "cell_type": "markdown",
      "source": [
        "<img alt=\"Colaboratory logo\" width=\"100%\" src=\"https://raw.githubusercontent.com/LuisCSGuimaraes/FraudesEmCartoesCreditoML/main/Images/Banner.png\">\r\n",
        "\r\n",
        "\r\n",
        "*Um projeto inspirado por:*\r\n",
        "\r\n",
        "<img alt=\"Colaboratory logo\" width=\"10%\" src=\"https://raw.githubusercontent.com/carlosfab/escola-data-science/master/img/novo_logo_bg_claro.png\">\r\n",
        "\r\n",
        "**Data Science na Prática 2.0**\r\n",
        "*by [sigmoidal.ai](https://sigmoidal.ai)*\r\n"
      ],
      "metadata": {
        "id": "sC2BFMOKN1M7",
        "colab_type": "text"
      }
    },
    {
      "cell_type": "markdown",
      "source": [
        "# Detecção de fraudes em cartões de crédito utilizando Machine Learning\r\n",
        "\r\n",
        "É importante que empresas de cartões de créditos sejam capazes de identificar transações fraudulentas de modo que seus clientes não sejam cobrados por compras que não realizaram.\r\n",
        "Segundo o site Procon Online, o Brasil ocupa a segunda colocação entre os países que mais sofrem fraudes com cartões de crédito, débito e pré-pago, atrás apenas do México ([Fonte](https://www.procononline.com.br/fraude-com-cartao-de-credito/)).\r\n",
        "\r\n",
        "<p align=center>\r\n",
        "<img src=\"https://raw.githubusercontent.com/LuisCSGuimaraes/FraudesEmCartoesCreditoML/main/Images/FraudeCartaoCredito.jpg\" width=\"60%\"></p>\r\n",
        "\r\n",
        "O primeiro semestre de 2021 registrou uma alta de quase 33% nas tentativas de fraudes em cartões de crédito ([Fonte](https://www.infomoney.com.br/minhas-financas/brasil-teve-alta-de-quase-33-nas-tentativas-de-fraude-com-cartao-de-credito-no-1-semestre-mostra-estudo/)). Por todos esses motivos, o investimento na área de detecção de fraudes por meio de Inteligência Artificial vem crescendo a cada ano, representando uma grande oportunidade em *Data Science*. \r\n",
        "\r\n",
        "Dispondo de grandes volumes de dados como base histórica, um algoritmo de *machine learning* apenas um pouco melhor que os anteriores já representa uma economia de milhões de Reais. Esse projeto busca encontrar um bom modelo de *machine learning* para realizar a detecção de fraudes em transações feitas por cartões de crédito."
      ],
      "metadata": {
        "id": "IR56trFcPcC1",
        "colab_type": "text"
      }
    },
    {
      "cell_type": "markdown",
      "source": [
        "# Índice\r\n",
        "* [Fonte e obtenção dos dados](#fonte_dados)\r\n",
        "* [Análise exploratória dos dados](#analise_dados)"
      ],
      "metadata": {}
    },
    {
      "cell_type": "markdown",
      "source": [
        "## Fonte dos dados <a name='fonte_dados'></a>\r\n",
        "\r\n",
        "Os dados utilizados neste projeto foram retirados do [kaggle](https://www.kaggle.com/), que é uma é uma comunidade on-line, subsidiária da Google, de cientistas de dados e profissionais de machine learning. O *dataset* contém transações realizadas por europeus em setembro de 2013 durante dois dias, período no qual foram registradas 284.807 transações, contendo um total de 492 fraldes. Por esse motivo este é um conjunto de dados extremamente desbalanceado, onde as fraudes representam apenas 0,17% do total.\r\n",
        "\r\n",
        "Outro detalhe interessante é que as *features* são todas numéricas, e foram descaracterizadas (devido à privacidade e a segurança). Assim, os nomes das colunas são representados por $[V1, V2, V3 \\dots, V28]$ \r\n",
        "\r\n",
        "[Na página original dos dados](https://www.kaggle.com/mlg-ulb/creditcardfraud), também é informado que as variáveis passaram por uma transformação conhecida como Análise de Componentes Principais (*Principal Component Analysis* - PCA), que permite a redução da dimensionalidade enquanto mantém o maior número possível de informações. Para conseguir isso, o algoritmo encontra um conjunto novo de recursos - os chamados **componentes**. Esses componentes são em número menor or igual às variáveis originais. No caso deste projeto, os componentes achados pela transformação da PCA são as próprias colunas $[V1, V2, V3 \\dots, V28]$.\r\n",
        "\r\n",
        "O *dataset* [original](https://www.kaggle.com/mlg-ulb/creditcardfraud) foi copiado para o meu dropbox e pode ser encontrado através deste [link](https://www.dropbox.com/s/jcnd83bfbdjm45b/creditcard.csv?dl=0)"
      ],
      "metadata": {
        "id": "0HVmpIxQWT4Y",
        "colab_type": "text"
      }
    },
    {
      "cell_type": "code",
      "execution_count": null,
      "source": [
        "# importar os pacotes necessários\r\n",
        "import pandas as pd\r\n",
        "import seaborn as sns\r\n"
      ],
      "outputs": [],
      "metadata": {
        "id": "oQ4bNy7udtEE",
        "colab_type": "code",
        "colab": {}
      }
    },
    {
      "cell_type": "markdown",
      "source": [
        "Para facilitar a aquisição dos dados, criei um *link* com acesso direto ao `csv`. Com isso, basta importar o conjunto de dados usando o método `pd.read_csv()`."
      ],
      "metadata": {
        "id": "g5XDTWW5LRVe",
        "colab_type": "text"
      }
    },
    {
      "cell_type": "code",
      "execution_count": null,
      "source": [
        "file_path = \"https://www.dropbox.com/s/jcnd83bfbdjm45b/creditcard.csv?dl=1\"\r\n",
        "\r\n",
        "# importar os dados para um dataframe\r\n"
      ],
      "outputs": [],
      "metadata": {
        "id": "4NxUOfDOj2j8",
        "colab_type": "code",
        "colab": {}
      }
    },
    {
      "cell_type": "markdown",
      "source": [
        "Com os dados importados para dentro de uma estrutura *Dataframe* - e não havendo a necessidade de mais nenhum ajuste ou configuração nesta etapa, pode-se iniciar uma análise exploratória dos dados a fim de preparar um modelo de *Machine Learning*."
      ],
      "metadata": {
        "id": "7nF_Dhd81Cvq",
        "colab_type": "text"
      }
    },
    {
      "cell_type": "markdown",
      "source": [
        "## Análise Exploratória <a name='analise_dados'></a>\r\n",
        "\r\n",
        "Abordar tópicos/informações como:\r\n",
        "\r\n",
        "* Ver as 5 primeiras entradas\r\n",
        "* Ver o resumo estatístico do dataframe\r\n",
        "* Verificar se há valores ausentes\r\n",
        "* Plotar um gráfico de barras (ou countplot) para ver o balanceamento do *dataset*\r\n",
        "* Plotar os seguintes histogramas:\r\n",
        "    * Variável `Time`\r\n",
        "        * Fraude (`Class == 1`)\r\n",
        "        * Normal (`Class == 0`)\r\n",
        "    * Variável `Amount`\r\n",
        "        * Fraude (`Class == 1`)\r\n",
        "        * Normal (`Class == 0`)\r\n",
        "* Plotar um `boxplot` para a variável `Amount` quando houve fraude (`Class == 1`)\r\n",
        "* Plotar uma matriz de correlação"
      ],
      "metadata": {
        "id": "8UtXyZ6stlSM",
        "colab_type": "text"
      }
    },
    {
      "cell_type": "markdown",
      "source": [
        "## Preparação dos Dados\n",
        "\n",
        "* Normalizar os dados que ainda não haviam sido pré-processados (`Time` e `Amount`)\n",
        "* Dividir o conjunto de dados entre treino e teste\n",
        "* [*Recomendado*] Balancear o conjunto de dados"
      ],
      "metadata": {
        "id": "ULe7z0jZt0EH",
        "colab_type": "text"
      }
    },
    {
      "cell_type": "code",
      "execution_count": null,
      "source": [],
      "outputs": [],
      "metadata": {
        "id": "IqfjG_SUSTi-",
        "colab_type": "code",
        "colab": {}
      }
    },
    {
      "cell_type": "markdown",
      "source": [
        "## Modelo de Machine Learning\n",
        "\n",
        "* Construir um modelo para **classificação**.\n",
        "* [*Opcional*] Construir mais de um modelo para avaliar os desempenhos"
      ],
      "metadata": {
        "id": "wJNH5qcjRxfX",
        "colab_type": "text"
      }
    },
    {
      "cell_type": "code",
      "execution_count": null,
      "source": [],
      "outputs": [],
      "metadata": {
        "id": "lDySx8XUSMw_",
        "colab_type": "code",
        "colab": {}
      }
    },
    {
      "cell_type": "markdown",
      "source": [
        "## Avaliar o desempenho do modelo\n",
        "\n",
        "* Identificar a melhor métrica para esse tipo de modelo\n",
        "* [*Opcional*] Comparar o desempenho entre diversos modelos"
      ],
      "metadata": {
        "id": "3e4ENOTYSUXi",
        "colab_type": "text"
      }
    },
    {
      "cell_type": "code",
      "execution_count": null,
      "source": [],
      "outputs": [],
      "metadata": {
        "id": "H1jEi7gkSe2r",
        "colab_type": "code",
        "colab": {}
      }
    },
    {
      "cell_type": "markdown",
      "source": [
        "## Conclusão\n",
        "\n",
        "* Escrever suas conclusões a respeito da construção do modelo"
      ],
      "metadata": {
        "id": "0Bj7zRZMSfO7",
        "colab_type": "text"
      }
    }
  ]
}